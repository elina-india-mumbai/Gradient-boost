{
 "cells": [
  {
   "cell_type": "code",
   "execution_count": 1,
   "id": "e9fd2f21",
   "metadata": {},
   "outputs": [],
   "source": [
    "#different trres with Gradient boost and xgboost for y2"
   ]
  },
  {
   "cell_type": "code",
   "execution_count": 2,
   "id": "543c747f",
   "metadata": {},
   "outputs": [
    {
     "name": "stdout",
     "output_type": "stream",
     "text": [
      "Collecting xgboost\n",
      "  Downloading xgboost-1.5.2-py3-none-win_amd64.whl (106.6 MB)\n",
      "Requirement already satisfied: scipy in c:\\users\\welcome\\anaconda3\\lib\\site-packages (from xgboost) (1.7.1)\n",
      "Requirement already satisfied: numpy in c:\\users\\welcome\\anaconda3\\lib\\site-packages (from xgboost) (1.21.4)\n",
      "Installing collected packages: xgboost\n",
      "Successfully installed xgboost-1.5.2\n"
     ]
    }
   ],
   "source": [
    "!pip install xgboost"
   ]
  },
  {
   "cell_type": "code",
   "execution_count": 3,
   "id": "5f6ad362",
   "metadata": {},
   "outputs": [],
   "source": [
    "import xgboost as xgb\n",
    "from sklearn.datasets import load_boston\n",
    "from sklearn.model_selection import train_test_split\n",
    "from sklearn.model_selection import cross_val_score, KFold\n",
    "from sklearn.metrics import mean_squared_error\n",
    "import matplotlib.pyplot as plt \n",
    "\n",
    "\n",
    "import numpy as np\n",
    "import pandas as pd\n",
    "import time\n",
    "\n",
    "import matplotlib.pyplot as plt\n",
    "import seaborn as sns\n",
    "\n",
    "from sklearn.model_selection import train_test_split\n",
    "\n",
    "from sklearn.metrics import mean_squared_error\n",
    "\n",
    "from sklearn.preprocessing import StandardScaler\n",
    "\n"
   ]
  },
  {
   "cell_type": "code",
   "execution_count": 5,
   "id": "855f03cc",
   "metadata": {},
   "outputs": [
    {
     "data": {
      "text/html": [
       "<div>\n",
       "<style scoped>\n",
       "    .dataframe tbody tr th:only-of-type {\n",
       "        vertical-align: middle;\n",
       "    }\n",
       "\n",
       "    .dataframe tbody tr th {\n",
       "        vertical-align: top;\n",
       "    }\n",
       "\n",
       "    .dataframe thead th {\n",
       "        text-align: right;\n",
       "    }\n",
       "</style>\n",
       "<table border=\"1\" class=\"dataframe\">\n",
       "  <thead>\n",
       "    <tr style=\"text-align: right;\">\n",
       "      <th></th>\n",
       "      <th>Year</th>\n",
       "      <th>Month</th>\n",
       "      <th>Day</th>\n",
       "      <th>Hour</th>\n",
       "      <th>Minute</th>\n",
       "      <th>Clearsky DHI</th>\n",
       "      <th>Clearsky DNI</th>\n",
       "      <th>Clearsky GHI</th>\n",
       "      <th>Cloud Type</th>\n",
       "      <th>Dew Point</th>\n",
       "      <th>Temperature</th>\n",
       "      <th>Pressure</th>\n",
       "      <th>Relative Humidity</th>\n",
       "      <th>Solar Zenith Angle</th>\n",
       "      <th>Precipitable Water</th>\n",
       "      <th>Wind Direction</th>\n",
       "      <th>Wind Speed</th>\n",
       "      <th>Fill Flag</th>\n",
       "    </tr>\n",
       "  </thead>\n",
       "  <tbody>\n",
       "    <tr>\n",
       "      <th>0</th>\n",
       "      <td>2009</td>\n",
       "      <td>1</td>\n",
       "      <td>1</td>\n",
       "      <td>0</td>\n",
       "      <td>0</td>\n",
       "      <td>0</td>\n",
       "      <td>0</td>\n",
       "      <td>0</td>\n",
       "      <td>0</td>\n",
       "      <td>0.0</td>\n",
       "      <td>5.0</td>\n",
       "      <td>1010</td>\n",
       "      <td>75.34</td>\n",
       "      <td>106.15</td>\n",
       "      <td>0.499</td>\n",
       "      <td>346.1</td>\n",
       "      <td>3.1</td>\n",
       "      <td>0</td>\n",
       "    </tr>\n",
       "    <tr>\n",
       "      <th>1</th>\n",
       "      <td>2009</td>\n",
       "      <td>1</td>\n",
       "      <td>1</td>\n",
       "      <td>0</td>\n",
       "      <td>30</td>\n",
       "      <td>0</td>\n",
       "      <td>0</td>\n",
       "      <td>0</td>\n",
       "      <td>0</td>\n",
       "      <td>1.0</td>\n",
       "      <td>5.0</td>\n",
       "      <td>1010</td>\n",
       "      <td>80.81</td>\n",
       "      <td>112.28</td>\n",
       "      <td>0.490</td>\n",
       "      <td>346.1</td>\n",
       "      <td>3.1</td>\n",
       "      <td>0</td>\n",
       "    </tr>\n",
       "    <tr>\n",
       "      <th>2</th>\n",
       "      <td>2009</td>\n",
       "      <td>1</td>\n",
       "      <td>1</td>\n",
       "      <td>1</td>\n",
       "      <td>0</td>\n",
       "      <td>0</td>\n",
       "      <td>0</td>\n",
       "      <td>0</td>\n",
       "      <td>4</td>\n",
       "      <td>0.0</td>\n",
       "      <td>5.0</td>\n",
       "      <td>1010</td>\n",
       "      <td>78.27</td>\n",
       "      <td>118.50</td>\n",
       "      <td>0.482</td>\n",
       "      <td>347.9</td>\n",
       "      <td>3.2</td>\n",
       "      <td>0</td>\n",
       "    </tr>\n",
       "    <tr>\n",
       "      <th>3</th>\n",
       "      <td>2009</td>\n",
       "      <td>1</td>\n",
       "      <td>1</td>\n",
       "      <td>1</td>\n",
       "      <td>30</td>\n",
       "      <td>0</td>\n",
       "      <td>0</td>\n",
       "      <td>0</td>\n",
       "      <td>4</td>\n",
       "      <td>0.0</td>\n",
       "      <td>4.0</td>\n",
       "      <td>1010</td>\n",
       "      <td>78.27</td>\n",
       "      <td>124.78</td>\n",
       "      <td>0.478</td>\n",
       "      <td>347.9</td>\n",
       "      <td>3.1</td>\n",
       "      <td>0</td>\n",
       "    </tr>\n",
       "    <tr>\n",
       "      <th>4</th>\n",
       "      <td>2009</td>\n",
       "      <td>1</td>\n",
       "      <td>1</td>\n",
       "      <td>2</td>\n",
       "      <td>0</td>\n",
       "      <td>0</td>\n",
       "      <td>0</td>\n",
       "      <td>0</td>\n",
       "      <td>4</td>\n",
       "      <td>0.0</td>\n",
       "      <td>4.0</td>\n",
       "      <td>1010</td>\n",
       "      <td>76.45</td>\n",
       "      <td>131.12</td>\n",
       "      <td>0.475</td>\n",
       "      <td>350.0</td>\n",
       "      <td>3.0</td>\n",
       "      <td>0</td>\n",
       "    </tr>\n",
       "  </tbody>\n",
       "</table>\n",
       "</div>"
      ],
      "text/plain": [
       "   Year  Month  Day  Hour  Minute  Clearsky DHI  Clearsky DNI  Clearsky GHI  \\\n",
       "0  2009      1    1     0       0             0             0             0   \n",
       "1  2009      1    1     0      30             0             0             0   \n",
       "2  2009      1    1     1       0             0             0             0   \n",
       "3  2009      1    1     1      30             0             0             0   \n",
       "4  2009      1    1     2       0             0             0             0   \n",
       "\n",
       "   Cloud Type  Dew Point  Temperature  Pressure  Relative Humidity  \\\n",
       "0           0        0.0          5.0      1010              75.34   \n",
       "1           0        1.0          5.0      1010              80.81   \n",
       "2           4        0.0          5.0      1010              78.27   \n",
       "3           4        0.0          4.0      1010              78.27   \n",
       "4           4        0.0          4.0      1010              76.45   \n",
       "\n",
       "   Solar Zenith Angle  Precipitable Water  Wind Direction  Wind Speed  \\\n",
       "0              106.15               0.499           346.1         3.1   \n",
       "1              112.28               0.490           346.1         3.1   \n",
       "2              118.50               0.482           347.9         3.2   \n",
       "3              124.78               0.478           347.9         3.1   \n",
       "4              131.12               0.475           350.0         3.0   \n",
       "\n",
       "   Fill Flag  \n",
       "0          0  \n",
       "1          0  \n",
       "2          0  \n",
       "3          0  \n",
       "4          0  "
      ]
     },
     "execution_count": 5,
     "metadata": {},
     "output_type": "execute_result"
    }
   ],
   "source": [
    "df = pd.read_csv('Datasets/train.csv')\n",
    "df.head()"
   ]
  },
  {
   "cell_type": "code",
   "execution_count": 6,
   "id": "0ff75601",
   "metadata": {},
   "outputs": [],
   "source": [
    "X_train = df.drop(['Clearsky DHI', 'Clearsky DNI', 'Clearsky GHI'], axis=1)\n",
    "y1 = df['Clearsky DHI']\n",
    "y2 = df['Clearsky DNI']\n",
    "y3 = df['Clearsky GHI']\n"
   ]
  },
  {
   "cell_type": "code",
   "execution_count": 7,
   "id": "d571bcfd",
   "metadata": {},
   "outputs": [],
   "source": [
    "import xgboost as xgb"
   ]
  },
  {
   "cell_type": "code",
   "execution_count": 8,
   "id": "1dce0e92",
   "metadata": {},
   "outputs": [
    {
     "data": {
      "text/plain": [
       "XGBRegressor(base_score=0.5, booster='gbtree', colsample_bylevel=1,\n",
       "             colsample_bynode=1, colsample_bytree=1, enable_categorical=False,\n",
       "             gamma=0, gpu_id=-1, importance_type=None,\n",
       "             interaction_constraints='', learning_rate=0.300000012,\n",
       "             max_delta_step=0, max_depth=6, min_child_weight=1, missing=nan,\n",
       "             monotone_constraints='()', n_estimator=1000, n_estimators=100,\n",
       "             n_jobs=4, num_parallel_tree=1, predictor='auto', random_state=0,\n",
       "             reg_alpha=0, reg_lambda=1, scale_pos_weight=1, subsample=1,\n",
       "             tree_method='exact', validate_parameters=1, verbosity=0)"
      ]
     },
     "execution_count": 8,
     "metadata": {},
     "output_type": "execute_result"
    }
   ],
   "source": [
    "model1= xgb.XGBRegressor(verbosity=0, n_estimator=1000)\n",
    "model1.fit(X_train, y1)\n"
   ]
  },
  {
   "cell_type": "code",
   "execution_count": 9,
   "id": "d3edef42",
   "metadata": {},
   "outputs": [
    {
     "name": "stdout",
     "output_type": "stream",
     "text": [
      "107.42731831960354\n"
     ]
    }
   ],
   "source": [
    "y1pred = model1.predict(X_train)\n",
    "mse1 = mean_squared_error(y1, y1pred)\n",
    "print(mse1)"
   ]
  },
  {
   "cell_type": "code",
   "execution_count": 10,
   "id": "7c87af95",
   "metadata": {},
   "outputs": [
    {
     "data": {
      "text/plain": [
       "XGBRegressor(base_score=0.5, booster='gbtree', colsample_bylevel=1,\n",
       "             colsample_bynode=1, colsample_bytree=1, enable_categorical=False,\n",
       "             gamma=0, gpu_id=-1, importance_type=None,\n",
       "             interaction_constraints='', learning_rate=0.300000012,\n",
       "             max_delta_step=0, max_depth=6, min_child_weight=1, missing=nan,\n",
       "             monotone_constraints='()', n_estimator=1000, n_estimators=100,\n",
       "             n_jobs=4, num_parallel_tree=1, predictor='auto', random_state=0,\n",
       "             reg_alpha=0, reg_lambda=1, scale_pos_weight=1, subsample=1,\n",
       "             tree_method='exact', validate_parameters=1, verbosity=0)"
      ]
     },
     "execution_count": 10,
     "metadata": {},
     "output_type": "execute_result"
    }
   ],
   "source": [
    "model2= xgb.XGBRegressor(verbosity=0, n_estimator=1000)\n",
    "model2.fit(X_train, y2)\n"
   ]
  },
  {
   "cell_type": "code",
   "execution_count": 11,
   "id": "1e5ae9d4",
   "metadata": {},
   "outputs": [
    {
     "name": "stdout",
     "output_type": "stream",
     "text": [
      "786.9791112275662\n"
     ]
    }
   ],
   "source": [
    "y2pred = model2.predict(X_train)\n",
    "mse2 = mean_squared_error(y2, y2pred)\n",
    "print(mse2)"
   ]
  },
  {
   "cell_type": "code",
   "execution_count": null,
   "id": "83661d4f",
   "metadata": {},
   "outputs": [],
   "source": [
    "model3= xgb.XGBRegressor(verbosity=0, n_estimator=1000)\n",
    "model3.fit(X_train, y3)\n"
   ]
  },
  {
   "cell_type": "code",
   "execution_count": null,
   "id": "d86872db",
   "metadata": {},
   "outputs": [],
   "source": [
    "y3pred = model3.predict(X_train)\n",
    "mse3 = mean_squared_error(y3, y3pred)\n",
    "print(mse3)"
   ]
  },
  {
   "cell_type": "code",
   "execution_count": 29,
   "id": "5288c9b4",
   "metadata": {},
   "outputs": [
    {
     "data": {
      "text/html": [
       "<div>\n",
       "<style scoped>\n",
       "    .dataframe tbody tr th:only-of-type {\n",
       "        vertical-align: middle;\n",
       "    }\n",
       "\n",
       "    .dataframe tbody tr th {\n",
       "        vertical-align: top;\n",
       "    }\n",
       "\n",
       "    .dataframe thead th {\n",
       "        text-align: right;\n",
       "    }\n",
       "</style>\n",
       "<table border=\"1\" class=\"dataframe\">\n",
       "  <thead>\n",
       "    <tr style=\"text-align: right;\">\n",
       "      <th></th>\n",
       "      <th>Year</th>\n",
       "      <th>Month</th>\n",
       "      <th>Day</th>\n",
       "      <th>Hour</th>\n",
       "      <th>Minute</th>\n",
       "      <th>Cloud Type</th>\n",
       "      <th>Dew Point</th>\n",
       "      <th>Temperature</th>\n",
       "      <th>Pressure</th>\n",
       "      <th>Relative Humidity</th>\n",
       "      <th>Solar Zenith Angle</th>\n",
       "      <th>Precipitable Water</th>\n",
       "      <th>Wind Direction</th>\n",
       "      <th>Wind Speed</th>\n",
       "      <th>Fill Flag</th>\n",
       "    </tr>\n",
       "  </thead>\n",
       "  <tbody>\n",
       "    <tr>\n",
       "      <th>0</th>\n",
       "      <td>2019</td>\n",
       "      <td>1</td>\n",
       "      <td>1</td>\n",
       "      <td>0</td>\n",
       "      <td>0</td>\n",
       "      <td>7</td>\n",
       "      <td>18.4</td>\n",
       "      <td>18.8</td>\n",
       "      <td>1008</td>\n",
       "      <td>97.70</td>\n",
       "      <td>106.23</td>\n",
       "      <td>3.5</td>\n",
       "      <td>190</td>\n",
       "      <td>2.3</td>\n",
       "      <td>0</td>\n",
       "    </tr>\n",
       "    <tr>\n",
       "      <th>1</th>\n",
       "      <td>2019</td>\n",
       "      <td>1</td>\n",
       "      <td>1</td>\n",
       "      <td>0</td>\n",
       "      <td>30</td>\n",
       "      <td>3</td>\n",
       "      <td>18.4</td>\n",
       "      <td>18.6</td>\n",
       "      <td>1008</td>\n",
       "      <td>98.92</td>\n",
       "      <td>112.36</td>\n",
       "      <td>3.5</td>\n",
       "      <td>187</td>\n",
       "      <td>2.5</td>\n",
       "      <td>0</td>\n",
       "    </tr>\n",
       "    <tr>\n",
       "      <th>2</th>\n",
       "      <td>2019</td>\n",
       "      <td>1</td>\n",
       "      <td>1</td>\n",
       "      <td>1</td>\n",
       "      <td>0</td>\n",
       "      <td>3</td>\n",
       "      <td>18.2</td>\n",
       "      <td>18.5</td>\n",
       "      <td>1008</td>\n",
       "      <td>98.35</td>\n",
       "      <td>118.58</td>\n",
       "      <td>3.5</td>\n",
       "      <td>184</td>\n",
       "      <td>2.8</td>\n",
       "      <td>0</td>\n",
       "    </tr>\n",
       "    <tr>\n",
       "      <th>3</th>\n",
       "      <td>2019</td>\n",
       "      <td>1</td>\n",
       "      <td>1</td>\n",
       "      <td>1</td>\n",
       "      <td>30</td>\n",
       "      <td>3</td>\n",
       "      <td>18.2</td>\n",
       "      <td>18.3</td>\n",
       "      <td>1008</td>\n",
       "      <td>99.58</td>\n",
       "      <td>124.86</td>\n",
       "      <td>3.5</td>\n",
       "      <td>185</td>\n",
       "      <td>3.0</td>\n",
       "      <td>0</td>\n",
       "    </tr>\n",
       "    <tr>\n",
       "      <th>4</th>\n",
       "      <td>2019</td>\n",
       "      <td>1</td>\n",
       "      <td>1</td>\n",
       "      <td>2</td>\n",
       "      <td>0</td>\n",
       "      <td>0</td>\n",
       "      <td>18.0</td>\n",
       "      <td>18.0</td>\n",
       "      <td>1008</td>\n",
       "      <td>99.71</td>\n",
       "      <td>131.20</td>\n",
       "      <td>3.6</td>\n",
       "      <td>186</td>\n",
       "      <td>3.1</td>\n",
       "      <td>0</td>\n",
       "    </tr>\n",
       "  </tbody>\n",
       "</table>\n",
       "</div>"
      ],
      "text/plain": [
       "   Year  Month  Day  Hour  Minute  Cloud Type  Dew Point  Temperature  \\\n",
       "0  2019      1    1     0       0           7       18.4         18.8   \n",
       "1  2019      1    1     0      30           3       18.4         18.6   \n",
       "2  2019      1    1     1       0           3       18.2         18.5   \n",
       "3  2019      1    1     1      30           3       18.2         18.3   \n",
       "4  2019      1    1     2       0           0       18.0         18.0   \n",
       "\n",
       "   Pressure  Relative Humidity  Solar Zenith Angle  Precipitable Water  \\\n",
       "0      1008              97.70              106.23                 3.5   \n",
       "1      1008              98.92              112.36                 3.5   \n",
       "2      1008              98.35              118.58                 3.5   \n",
       "3      1008              99.58              124.86                 3.5   \n",
       "4      1008              99.71              131.20                 3.6   \n",
       "\n",
       "   Wind Direction  Wind Speed  Fill Flag  \n",
       "0             190         2.3          0  \n",
       "1             187         2.5          0  \n",
       "2             184         2.8          0  \n",
       "3             185         3.0          0  \n",
       "4             186         3.1          0  "
      ]
     },
     "execution_count": 29,
     "metadata": {},
     "output_type": "execute_result"
    }
   ],
   "source": [
    "test_df = pd.read_csv('../Datasets/test.csv')\n",
    "test_df = test_df.drop(['Clearsky DHI', 'Clearsky DNI', 'Clearsky GHI'], axis=1)\n",
    "test_df.head()"
   ]
  },
  {
   "cell_type": "code",
   "execution_count": 35,
   "id": "d6833c19",
   "metadata": {},
   "outputs": [],
   "source": [
    "submission_y1 = model1.predict(test_df).astype('int32')\n",
    "submission_y2 = model2.predict(test_df).astype('int32')\n",
    "submission_y3 = model3.predict(test_df).astype('int32')\n"
   ]
  },
  {
   "cell_type": "code",
   "execution_count": 36,
   "id": "31b9342d",
   "metadata": {},
   "outputs": [
    {
     "data": {
      "text/html": [
       "<div>\n",
       "<style scoped>\n",
       "    .dataframe tbody tr th:only-of-type {\n",
       "        vertical-align: middle;\n",
       "    }\n",
       "\n",
       "    .dataframe tbody tr th {\n",
       "        vertical-align: top;\n",
       "    }\n",
       "\n",
       "    .dataframe thead th {\n",
       "        text-align: right;\n",
       "    }\n",
       "</style>\n",
       "<table border=\"1\" class=\"dataframe\">\n",
       "  <thead>\n",
       "    <tr style=\"text-align: right;\">\n",
       "      <th></th>\n",
       "      <th>Clearsky DHI</th>\n",
       "      <th>Clearsky DNI</th>\n",
       "      <th>Clearsky GHI</th>\n",
       "    </tr>\n",
       "  </thead>\n",
       "  <tbody>\n",
       "    <tr>\n",
       "      <th>0</th>\n",
       "      <td>-1</td>\n",
       "      <td>2</td>\n",
       "      <td>0</td>\n",
       "    </tr>\n",
       "    <tr>\n",
       "      <th>1</th>\n",
       "      <td>-1</td>\n",
       "      <td>2</td>\n",
       "      <td>0</td>\n",
       "    </tr>\n",
       "    <tr>\n",
       "      <th>2</th>\n",
       "      <td>0</td>\n",
       "      <td>6</td>\n",
       "      <td>0</td>\n",
       "    </tr>\n",
       "    <tr>\n",
       "      <th>3</th>\n",
       "      <td>0</td>\n",
       "      <td>6</td>\n",
       "      <td>0</td>\n",
       "    </tr>\n",
       "    <tr>\n",
       "      <th>4</th>\n",
       "      <td>0</td>\n",
       "      <td>0</td>\n",
       "      <td>0</td>\n",
       "    </tr>\n",
       "  </tbody>\n",
       "</table>\n",
       "</div>"
      ],
      "text/plain": [
       "   Clearsky DHI  Clearsky DNI  Clearsky GHI\n",
       "0            -1             2             0\n",
       "1            -1             2             0\n",
       "2             0             6             0\n",
       "3             0             6             0\n",
       "4             0             0             0"
      ]
     },
     "execution_count": 36,
     "metadata": {},
     "output_type": "execute_result"
    }
   ],
   "source": [
    "Submission = pd.DataFrame()\n",
    "Submission['Clearsky DHI']= submission_y1\n",
    "Submission['Clearsky DNI']= submission_y2\n",
    "Submission['Clearsky GHI']= submission_y3\n",
    "Submission.head(5)"
   ]
  },
  {
   "cell_type": "code",
   "execution_count": 39,
   "id": "228373a4",
   "metadata": {},
   "outputs": [],
   "source": [
    "Submission.to_csv('submission_feb3_2.csv', index=False)"
   ]
  },
  {
   "cell_type": "markdown",
   "id": "5c436ec8",
   "metadata": {},
   "source": [
    "The MSE was 352. So we need to do DNN now."
   ]
  },
  {
   "cell_type": "code",
   "execution_count": null,
   "id": "bb58dc87",
   "metadata": {},
   "outputs": [],
   "source": []
  }
 ],
 "metadata": {
  "kernelspec": {
   "display_name": "Python 3 (ipykernel)",
   "language": "python",
   "name": "python3"
  },
  "language_info": {
   "codemirror_mode": {
    "name": "ipython",
    "version": 3
   },
   "file_extension": ".py",
   "mimetype": "text/x-python",
   "name": "python",
   "nbconvert_exporter": "python",
   "pygments_lexer": "ipython3",
   "version": "3.7.11"
  }
 },
 "nbformat": 4,
 "nbformat_minor": 5
}
